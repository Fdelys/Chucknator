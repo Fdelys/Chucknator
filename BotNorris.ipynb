{
 "cells": [
  {
   "cell_type": "markdown",
   "metadata": {},
   "source": [
    "Projet de Webscrapping Chuck Norris\n",
    "\n",
    "Objectifs : \n",
    "_ Scrapper le site chucknorrisfacts.net avec lecture automatique des pages\n",
    "_ Stocker les données dans une BDD\n",
    "_ Dataviz et requêtage\n",
    "\n",
    "Bibliothèques python utilisées : \n",
    "_ psycopg2\n",
    "_ pandas\n",
    "_ pygal\n",
    "_ re\n",
    "_ request"
   ]
  },
  {
   "cell_type": "code",
   "execution_count": null,
   "metadata": {},
   "outputs": [],
   "source": [
    "import requests\n",
    "import re\n",
    "from bs4 import BeautifulSoup\n",
    "import psycopg2, config\n",
    "\n",
    "conn = psycopg2.connect(database=\"bdd_fdelys\", user=config.user,password=config.passw, host='127.0.0.1') \n",
    "cur = conn.cursor()\n",
    "\n",
    "# Traitement de chaque ligne: affichage & enregistrement\n",
    "def traiteInfo(id, rate, vote, fact):\n",
    "    print(\"%4d : %.2f %5d %s\" % (id, rate, vote, fact))\n",
    "    cur.execute(\"\"\"INSERT INTO public.\"factChuck\" VALUES (%s, %s) ON CONFLICT (id) DO NOTHING;\"\"\", (id, fact))\n",
    "    cur.execute(\"\"\"INSERT INTO public.\"rateChuck\" VALUES (NOW()::Date, %s, %s, %s) ON CONFLICT DO NOTHING;\"\"\", (id, rate, vote))\n",
    "\n",
    "# Definition de la procédure qui traite 1 page\n",
    "def recupPage(page):\n",
    "    url = \"https://chucknorrisfacts.net/facts.php?page=%d\" % (page)\n",
    "    print(\"\\nRécupération de %s\" %(url))\n",
    "    r = requests.get(url, headers={\"User-Agent\": \"Mon navigateur perso d'ici\"})\n",
    "    soup = BeautifulSoup(r.content, 'html.parser')\n",
    "    blocks = soup.select(\"#content > div:nth-of-type(n+2)\")\n",
    "    for block in blocks: \n",
    "        fact = block.select_one(\"p\")\n",
    "        if fact is not None:\n",
    "            id = block.select_one(\"ul.star-rating\").attrs['id']\n",
    "            rate = block.select_one(\"span.out5Class\")\n",
    "            vote = block.select_one(\"span.votesClass\")\n",
    "            \n",
    "            traiteInfo(int(id[6:]), float(rate.text), int(vote.text[:-6]), fact.text)\n",
    "\n",
    "def lastPage():\n",
    "    url = \"https://chucknorrisfacts.net/facts\"\n",
    "    r = requests.get(url, headers={\"User-Agent\": \"Mon navigateur perso d'ici\"})\n",
    "    soup = BeautifulSoup(r.content, 'html.parser')\n",
    "    lastPage = soup.select(\"#content a:link\")\n",
    "    lastPageToStr = str(lastPage[-1].get('href'))   \n",
    "    numPage = re.findall(r'\\d+', lastPageToStr)\n",
    "    return(int(numPage[0]))\n",
    "\n",
    "for p in range(1, lastPage()+1):\n",
    "    recupPage(page = p)\n",
    "\n",
    "cur.execute(\"\"\"SELECT COUNT(*) FROM \"factChuck\";\"\"\")\n",
    "print(cur.fetchall())\n",
    "conn.commit()\n",
    "conn.close()"
   ]
  },
  {
   "cell_type": "code",
   "execution_count": 47,
   "metadata": {
    "scrolled": true
   },
   "outputs": [
    {
     "name": "stderr",
     "output_type": "stream",
     "text": [
      "<ipython-input-47-dd7230f8d493>:6: FutureWarning: Passing a negative integer is deprecated in version 1.0 and will not be supported in future version. Instead, use None to not limit the column width.\n",
      "  pd.set_option('display.max_colwidth', -1)\n"
     ]
    },
    {
     "name": "stdout",
     "output_type": "stream",
     "text": [
      "file:///tmp/tmpclwyh599.html\n",
      "file:///tmp/tmp3nrlh2hz.html\n"
     ]
    }
   ],
   "source": [
    "import config\n",
    "import pandas as pd\n",
    "import pygal\n",
    "from pygal.style import RedBlueStyle\n",
    "\n",
    "pd.set_option('display.max_colwidth', -1)\n",
    "\n",
    "conn = psycopg2.connect(database=\"bdd_fdelys\", user=config.user,password=config.passw, host='127.0.0.1') \n",
    "cur = conn.cursor()\n",
    "sql = 'SELECT * FROM \"factChuck\"'\n",
    "dfAll = pd.read_sql(sql,conn)\n",
    "#print(len(dfAll))\n",
    "\n",
    "#requêtes pour chaque répartition\n",
    "rateUn = '''SELECT DISTINCT * FROM \"factChuck\" INNER JOIN \"rateChuck\" ON (\"factChuck\".id=\"rateChuck\".id) WHERE date = '2020-12-16' AND rating BETWEEN 0.00 AND 2.50 ORDER BY rating'''\n",
    "dfUn = pd.read_sql(rateUn,conn)\n",
    "lenUn = (len(dfUn))\n",
    "\n",
    "rateDeux = '''SELECT DISTINCT * FROM \"factChuck\" INNER JOIN \"rateChuck\" ON (\"factChuck\".id=\"rateChuck\".id) WHERE date = '2020-12-16' AND rating BETWEEN 2.51 AND 3.50 ORDER BY rating'''\n",
    "dfDeux = pd.read_sql(rateDeux,conn)\n",
    "lenDeux = (len(dfDeux))\n",
    "\n",
    "rateTrois = '''SELECT DISTINCT * FROM \"factChuck\" INNER JOIN \"rateChuck\" ON (\"factChuck\".id=\"rateChuck\".id) WHERE date = '2020-12-16' AND rating BETWEEN 3.51 AND 4.00 ORDER BY rating'''\n",
    "dfTrois = pd.read_sql(rateTrois,conn)\n",
    "lenTrois = (len(dfTrois))\n",
    "\n",
    "rateQuatre = '''SELECT DISTINCT * FROM \"factChuck\" INNER JOIN \"rateChuck\" ON (\"factChuck\".id=\"rateChuck\".id) WHERE date = '2020-12-16' AND rating BETWEEN 4.01 AND 5.00 ORDER BY rating'''\n",
    "dfQuatre = pd.read_sql(rateQuatre,conn)\n",
    "lenQuatre = (len(dfQuatre))\n",
    "\n",
    "#Graph de répartion par moyenne\n",
    "pie_chart = pygal.Pie(style=RedBlueStyle)\n",
    "pie_chart.title = 'Repartition des facts par moyenne - 5308 facts'\n",
    "pie_chart.add('0.00-2.50 : 11%', lenUn)\n",
    "pie_chart.add('2.51-3.50 : 52%', lenDeux)\n",
    "pie_chart.add('3.51-4.00 : 31%', lenTrois)\n",
    "pie_chart.add('4.01-5.00 : 6%', lenQuatre)\n",
    "pie_chart.render_in_browser()\n",
    "\n",
    "\n",
    "\n",
    "#requêtes pour nb de votes alt : SELECT DISTINCT * FROM \"factChuck\" INNER JOIN \"rateChuck\" ON (\"factChuck\".id=\"rateChuck\".id) WHERE date = '2020-12-16' AND nbvotes BETWEEN 0 AND 500 ORDER BY nbvotes\n",
    "voteUno = '''SELECT SUM(nbvotes) FROM \"rateChuck\" WHERE nbvotes BETWEEN 0 AND 500'''\n",
    "dfUno = pd.read_sql(voteUno,conn)\n",
    "Uno = dfUno.loc[:, \"sum\"]\n",
    "\n",
    "voteDos = '''SELECT SUM(nbvotes) FROM \"rateChuck\" WHERE nbvotes BETWEEN 501 AND 2000'''\n",
    "dfDos = pd.read_sql(voteDos,conn)\n",
    "Dos = dfDos.loc[:, \"sum\"]\n",
    "\n",
    "voteTres = '''SELECT SUM(nbvotes) FROM \"rateChuck\" WHERE nbvotes BETWEEN 2001 AND 4000'''\n",
    "dfTres = pd.read_sql(voteTres,conn)\n",
    "Tres = dfTres.loc[:, \"sum\"]\n",
    "\n",
    "voteQuattro = '''SELECT SUM(nbvotes) FROM \"rateChuck\" WHERE nbvotes BETWEEN 4001 AND 6000'''\n",
    "dfQuattro = pd.read_sql(voteQuattro,conn)\n",
    "Quattro = dfQuattro.loc[:, \"sum\"]\n",
    "\n",
    "voteCinqo = '''SELECT SUM(nbvotes) FROM \"rateChuck\" WHERE nbvotes BETWEEN 6001 AND 10000'''\n",
    "dfCinqo = pd.read_sql(voteCinqo,conn)\n",
    "Cinqo = dfCinqo.loc[:, \"sum\"]\n",
    "\n",
    "voteTotal = '''SELECT SUM(nbvotes) FROM \"rateChuck\"'''\n",
    "dfTotal = pd.read_sql(voteTotal,conn)\n",
    "Total = dfTotal.loc[:, \"sum\"]\n",
    "\n",
    "#Graph pour les votes\n",
    "line_chart = pygal.HorizontalBar()\n",
    "line_chart.title = 'nombre de votes totaux : 2.600.099'\n",
    "line_chart.add('0-500 : 35%', Uno)\n",
    "line_chart.add('501-2000 : 8%', Dos)\n",
    "line_chart.add('2001-4000 : 26%', Tres)\n",
    "line_chart.add('4001-6000 : 24%', Quattro)\n",
    "line_chart.add('6001-10000 : 7%', Cinqo)\n",
    "#line_chart.add('Total : 100%', Total)\n",
    "line_chart.render_in_browser()"
   ]
  },
  {
   "cell_type": "code",
   "execution_count": 42,
   "metadata": {
    "scrolled": true
   },
   "outputs": [
    {
     "name": "stdout",
     "output_type": "stream",
     "text": [
      "    id                                                                                                                                                             fact\n",
      "0  262  In the early 70's Chuck Norris and Arnold Schwarzenegger got into a fight. With just one round house kick to the face, Arnold hasn't talked the same ever since\n",
      "1  457  When Chuck Norris get in to fights all he has to do is say, \"I win.\"                                                                                           \n",
      "2  494  To commit suicide: Some people hang themselves, some people shoot themselves, some people people pick a fight with Chuck Norris.                               \n",
      "3  507  It took the government 15 years to fight in Vietnam. Chuck Norris could have done it in 1                                                                      \n",
      "4  911  Chuck Norris and Jack Bauer don't fight each other. They apocalypse each other.                                                                                \n"
     ]
    }
   ],
   "source": [
    "fight = \"\"\"SELECT * FROM \"factChuck\" WHERE fact LIKE '%fight%' LIMIT 5\"\"\"\n",
    "dffight = pd.read_sql(fight,conn)\n",
    "print(dffight)"
   ]
  },
  {
   "cell_type": "code",
   "execution_count": 43,
   "metadata": {
    "scrolled": true
   },
   "outputs": [
    {
     "name": "stdout",
     "output_type": "stream",
     "text": [
      "    id                                                                                                                            fact\n",
      "0  2    Chuck Norris doesnt sleep. He waits.                                                                                          \n",
      "1  122  When the Boogeyman goes to sleep every night he checks his closet for Chuck Norris.                                           \n",
      "2  129  Chuck Norris sleeps with a night light. Not because Chuck Norris is afraid of the dark, but the dark is afraid of Chuck Norris\n",
      "3  137  The best part of waking up is not Folgers in your cup, but knowing that Chuck Norris didn't kill you in your sleep.           \n",
      "4  201  Chuck Norris once ate an entire bottle of sleeping pills. They made him blink.                                                \n"
     ]
    }
   ],
   "source": [
    "eat = \"\"\"SELECT * FROM \"factChuck\" WHERE fact LIKE '%sleep%' LIMIT 5\"\"\"\n",
    "dfeat = pd.read_sql(eat,conn)\n",
    "print(dfeat)"
   ]
  },
  {
   "cell_type": "code",
   "execution_count": 44,
   "metadata": {
    "scrolled": true
   },
   "outputs": [
    {
     "name": "stdout",
     "output_type": "stream",
     "text": [
      "     id                                                                                                                                                         fact\n",
      "0  125   Chuck Norris does not hunt because the word hunting implies the possibility of failure. Chuck Norris goes killing.                                         \n",
      "1  876   Chuck Norris doesn't hunt for monster. Monsters give him free Exp in exchange for their lives                                                              \n",
      "2  2321  When Chuck Norris goes hunting he doesn't bring his gun. The animals commit suicide.                                                                       \n",
      "3  2535  Chuck Norris was the hunter who shot Bambi's Mother. He then wore her carcass like it was a coat while he made his rounds at the local children's hospital.\n",
      "4  3690  Chuck Norris doesn't go hunting. He goes killing.                                                                                                          \n"
     ]
    }
   ],
   "source": [
    "heal = \"\"\"SELECT * FROM \"factChuck\" WHERE fact LIKE '%hunt%' LIMIT 5\"\"\"\n",
    "dfheal = pd.read_sql(heal,conn)\n",
    "print(dfheal)"
   ]
  },
  {
   "cell_type": "code",
   "execution_count": 30,
   "metadata": {},
   "outputs": [
    {
     "name": "stdout",
     "output_type": "stream",
     "text": [
      "      id                                                                                                    fact\n",
      "0  495    The surgeon general's warning: Chuck Norris may be hazardous to your health.                          \n",
      "1  735    Chuck Norris IS the healthcare crisis.                                                                \n",
      "2  2344   Chuck Norris is so healthy, that when he drinks green tea, the tea benefits, not him.                 \n",
      "3  4471   Why is health care so expensive? Chuck Norris is sending thousands of people to the hospital everyday.\n",
      "4  10691  If Chuck Norris is seen in a video game, his \"health bar\" is actually is his patience.                \n"
     ]
    }
   ],
   "source": [
    "heal = \"\"\"SELECT * FROM \"factChuck\" WHERE fact LIKE '%health%' LIMIT 15\"\"\"\n",
    "dfheal = pd.read_sql(heal,conn)\n",
    "print(dfheal)"
   ]
  },
  {
   "cell_type": "code",
   "execution_count": null,
   "metadata": {},
   "outputs": [],
   "source": []
  }
 ],
 "metadata": {
  "kernelspec": {
   "display_name": "Python 3",
   "language": "python",
   "name": "python3"
  },
  "language_info": {
   "codemirror_mode": {
    "name": "ipython",
    "version": 3
   },
   "file_extension": ".py",
   "mimetype": "text/x-python",
   "name": "python",
   "nbconvert_exporter": "python",
   "pygments_lexer": "ipython3",
   "version": "3.8.3"
  }
 },
 "nbformat": 4,
 "nbformat_minor": 4
}
